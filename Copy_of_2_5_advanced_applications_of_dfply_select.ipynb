{
  "cells": [
    {
      "cell_type": "markdown",
      "metadata": {
        "id": "view-in-github",
        "colab_type": "text"
      },
      "source": [
        "<a href=\"https://colab.research.google.com/github/dreols01/module2_intro_to_pandas/blob/main/Copy_of_2_5_advanced_applications_of_dfply_select.ipynb\" target=\"_parent\"><img src=\"https://colab.research.google.com/assets/colab-badge.svg\" alt=\"Open In Colab\"/></a>"
      ]
    },
    {
      "cell_type": "markdown",
      "metadata": {
        "id": "hTGZqLTYVy6Q"
      },
      "source": [
        "## Advanced Applications of Select"
      ]
    },
    {
      "cell_type": "code",
      "execution_count": null,
      "metadata": {
        "id": "HtSYbX7AVy6R"
      },
      "outputs": [],
      "source": [
        "import pandas as pd\n",
        "from dfply import *"
      ]
    },
    {
      "cell_type": "markdown",
      "metadata": {
        "id": "8YeFXzccVy6S"
      },
      "source": [
        "## Outline\n",
        "\n",
        "* `select` helper functions\n",
        "* Basic `filter` format"
      ]
    },
    {
      "cell_type": "markdown",
      "metadata": {
        "id": "i-1Vmt9TVy6S"
      },
      "source": [
        "## Example - Health Survey"
      ]
    },
    {
      "cell_type": "code",
      "execution_count": null,
      "metadata": {
        "id": "GnWIras0Vy6S",
        "outputId": "38687381-c9b3-420f-9832-bfbb9b667410"
      },
      "outputs": [
        {
          "data": {
            "text/plain": [
              "Index(['Unnamed: 0', 'F1', 'F5', 'F2', 'F1.1', 'F2.1', 'F6', 'F4', 'F3',\n",
              "       'F5.1', 'F1.2', 'F2.2', 'F6.1', 'F2.3', 'F4.1', 'F2.4', 'F5.2', 'F2.5',\n",
              "       'F6.2', 'F1.3', 'F2.6', 'F5.3', 'F4.2', 'F2.7', 'F3.1', 'F2.8', 'F5.4',\n",
              "       'F3.2', 'F1.4', 'F3.3', 'F1.5', 'F5.5', 'F6.3', 'F1.6', 'F5.6', 'F2.9',\n",
              "       'F3.4', 'F4.3', 'F2.10', 'F1.7', 'F6.4', 'F4.4', 'F5.7', 'F3.5',\n",
              "       'F2.11'],\n",
              "      dtype='object')"
            ]
          },
          "execution_count": 2,
          "metadata": {},
          "output_type": "execute_result"
        }
      ],
      "source": [
        "survey_raw = pd.read_csv(\"./data/health_survey.csv\")\n",
        "survey_raw.columns"
      ]
    },
    {
      "cell_type": "markdown",
      "metadata": {
        "id": "G4PrADa4Vy6T"
      },
      "source": [
        "## Renaming columns\n",
        "\n",
        "Use `rename` to rename one or more columns.\n",
        "\n",
        "1. Use keyword arguments, i.e. `new_name = old_name`\n",
        "2. The RHS can be a string or intention."
      ]
    },
    {
      "cell_type": "code",
      "execution_count": null,
      "metadata": {
        "id": "ePJpRY0KVy6T",
        "outputId": "e3962095-feeb-4361-8496-86bd08961b4b"
      },
      "outputs": [
        {
          "data": {
            "text/html": [
              "<div>\n",
              "<style scoped>\n",
              "    .dataframe tbody tr th:only-of-type {\n",
              "        vertical-align: middle;\n",
              "    }\n",
              "\n",
              "    .dataframe tbody tr th {\n",
              "        vertical-align: top;\n",
              "    }\n",
              "\n",
              "    .dataframe thead th {\n",
              "        text-align: right;\n",
              "    }\n",
              "</style>\n",
              "<table border=\"1\" class=\"dataframe\">\n",
              "  <thead>\n",
              "    <tr style=\"text-align: right;\">\n",
              "      <th></th>\n",
              "      <th>id_col</th>\n",
              "      <th>f1</th>\n",
              "      <th>F5</th>\n",
              "      <th>F2</th>\n",
              "      <th>F1.1</th>\n",
              "      <th>F2.1</th>\n",
              "      <th>F6</th>\n",
              "      <th>F4</th>\n",
              "      <th>F3</th>\n",
              "      <th>F5.1</th>\n",
              "      <th>...</th>\n",
              "      <th>F2.9</th>\n",
              "      <th>F3.4</th>\n",
              "      <th>F4.3</th>\n",
              "      <th>F2.10</th>\n",
              "      <th>F1.7</th>\n",
              "      <th>F6.4</th>\n",
              "      <th>F4.4</th>\n",
              "      <th>F5.7</th>\n",
              "      <th>F3.5</th>\n",
              "      <th>F2.11</th>\n",
              "    </tr>\n",
              "  </thead>\n",
              "  <tbody>\n",
              "    <tr>\n",
              "      <th>0</th>\n",
              "      <td>1</td>\n",
              "      <td>Somewhat Agree</td>\n",
              "      <td>Somewhat Disagree</td>\n",
              "      <td>Somewhat Agree</td>\n",
              "      <td>Somewhat Agree</td>\n",
              "      <td>Somewhat Agree</td>\n",
              "      <td>Somewhat Disagree</td>\n",
              "      <td>Somewhat Agree</td>\n",
              "      <td>Somewhat Agree</td>\n",
              "      <td>Somewhat Agree</td>\n",
              "      <td>...</td>\n",
              "      <td>Somewhat Agree</td>\n",
              "      <td>Somewhat Disagree</td>\n",
              "      <td>Neither Agree nor Disagree</td>\n",
              "      <td>Somewhat Agree</td>\n",
              "      <td>Somewhat Agree</td>\n",
              "      <td>Somewhat Agree</td>\n",
              "      <td>Somewhat Agree</td>\n",
              "      <td>Somewhat Agree</td>\n",
              "      <td>Somewhat Agree</td>\n",
              "      <td>Somewhat Agree</td>\n",
              "    </tr>\n",
              "    <tr>\n",
              "      <th>1</th>\n",
              "      <td>2</td>\n",
              "      <td>Somewhat Agree</td>\n",
              "      <td>Somewhat Disagree</td>\n",
              "      <td>Somewhat Agree</td>\n",
              "      <td>Somewhat Agree</td>\n",
              "      <td>Somewhat Agree</td>\n",
              "      <td>Somewhat Disagree</td>\n",
              "      <td>Somewhat Agree</td>\n",
              "      <td>Neither Agree nor Disagree</td>\n",
              "      <td>Neither Agree nor Disagree</td>\n",
              "      <td>...</td>\n",
              "      <td>Somewhat Agree</td>\n",
              "      <td>Somewhat Agree</td>\n",
              "      <td>Neither Agree nor Disagree</td>\n",
              "      <td>Somewhat Agree</td>\n",
              "      <td>Somewhat Agree</td>\n",
              "      <td>Somewhat Disagree</td>\n",
              "      <td>Neither Agree nor Disagree</td>\n",
              "      <td>Somewhat Agree</td>\n",
              "      <td>Neither Agree nor Disagree</td>\n",
              "      <td>Somewhat Agree</td>\n",
              "    </tr>\n",
              "    <tr>\n",
              "      <th>2</th>\n",
              "      <td>3</td>\n",
              "      <td>Strongly Agree</td>\n",
              "      <td>Neither Agree nor Disagree</td>\n",
              "      <td>Somewhat Agree</td>\n",
              "      <td>Strongly Agree</td>\n",
              "      <td>Strongly Agree</td>\n",
              "      <td>Somewhat Disagree</td>\n",
              "      <td>Somewhat Agree</td>\n",
              "      <td>Somewhat Agree</td>\n",
              "      <td>Somewhat Agree</td>\n",
              "      <td>...</td>\n",
              "      <td>Somewhat Agree</td>\n",
              "      <td>Somewhat Agree</td>\n",
              "      <td>Neither Agree nor Disagree</td>\n",
              "      <td>Somewhat Agree</td>\n",
              "      <td>Somewhat Agree</td>\n",
              "      <td>Somewhat Agree</td>\n",
              "      <td>Somewhat Agree</td>\n",
              "      <td>Strongly Agree</td>\n",
              "      <td>Strongly Disagree</td>\n",
              "      <td>Somewhat Agree</td>\n",
              "    </tr>\n",
              "    <tr>\n",
              "      <th>3</th>\n",
              "      <td>4</td>\n",
              "      <td>Somewhat Agree</td>\n",
              "      <td>Somewhat Agree</td>\n",
              "      <td>Strongly Agree</td>\n",
              "      <td>Somewhat Agree</td>\n",
              "      <td>Strongly Agree</td>\n",
              "      <td>Neither Agree nor Disagree</td>\n",
              "      <td>Neither Agree nor Disagree</td>\n",
              "      <td>Somewhat Disagree</td>\n",
              "      <td>Somewhat Agree</td>\n",
              "      <td>...</td>\n",
              "      <td>Somewhat Agree</td>\n",
              "      <td>Somewhat Disagree</td>\n",
              "      <td>Somewhat Agree</td>\n",
              "      <td>Somewhat Agree</td>\n",
              "      <td>Neither Agree nor Disagree</td>\n",
              "      <td>Neither Agree nor Disagree</td>\n",
              "      <td>Neither Agree nor Disagree</td>\n",
              "      <td>Somewhat Agree</td>\n",
              "      <td>Somewhat Disagree</td>\n",
              "      <td>Somewhat Agree</td>\n",
              "    </tr>\n",
              "    <tr>\n",
              "      <th>4</th>\n",
              "      <td>5</td>\n",
              "      <td>Strongly Agree</td>\n",
              "      <td>Strongly Disagree</td>\n",
              "      <td>Neither Agree nor Disagree</td>\n",
              "      <td>Strongly Agree</td>\n",
              "      <td>Somewhat Agree</td>\n",
              "      <td>Strongly Disagree</td>\n",
              "      <td>Strongly Agree</td>\n",
              "      <td>Somewhat Agree</td>\n",
              "      <td>Neither Agree nor Disagree</td>\n",
              "      <td>...</td>\n",
              "      <td>Somewhat Agree</td>\n",
              "      <td>Somewhat Agree</td>\n",
              "      <td>Neither Agree nor Disagree</td>\n",
              "      <td>Somewhat Agree</td>\n",
              "      <td>Somewhat Agree</td>\n",
              "      <td>Somewhat Agree</td>\n",
              "      <td>Somewhat Agree</td>\n",
              "      <td>Strongly Agree</td>\n",
              "      <td>Somewhat Disagree</td>\n",
              "      <td>Somewhat Agree</td>\n",
              "    </tr>\n",
              "  </tbody>\n",
              "</table>\n",
              "<p>5 rows × 45 columns</p>\n",
              "</div>"
            ],
            "text/plain": [
              "   id_col              f1                          F5  \\\n",
              "0       1  Somewhat Agree           Somewhat Disagree   \n",
              "1       2  Somewhat Agree           Somewhat Disagree   \n",
              "2       3  Strongly Agree  Neither Agree nor Disagree   \n",
              "3       4  Somewhat Agree              Somewhat Agree   \n",
              "4       5  Strongly Agree           Strongly Disagree   \n",
              "\n",
              "                           F2            F1.1            F2.1  \\\n",
              "0              Somewhat Agree  Somewhat Agree  Somewhat Agree   \n",
              "1              Somewhat Agree  Somewhat Agree  Somewhat Agree   \n",
              "2              Somewhat Agree  Strongly Agree  Strongly Agree   \n",
              "3              Strongly Agree  Somewhat Agree  Strongly Agree   \n",
              "4  Neither Agree nor Disagree  Strongly Agree  Somewhat Agree   \n",
              "\n",
              "                           F6                          F4  \\\n",
              "0           Somewhat Disagree              Somewhat Agree   \n",
              "1           Somewhat Disagree              Somewhat Agree   \n",
              "2           Somewhat Disagree              Somewhat Agree   \n",
              "3  Neither Agree nor Disagree  Neither Agree nor Disagree   \n",
              "4           Strongly Disagree              Strongly Agree   \n",
              "\n",
              "                           F3                        F5.1  ...  \\\n",
              "0              Somewhat Agree              Somewhat Agree  ...   \n",
              "1  Neither Agree nor Disagree  Neither Agree nor Disagree  ...   \n",
              "2              Somewhat Agree              Somewhat Agree  ...   \n",
              "3           Somewhat Disagree              Somewhat Agree  ...   \n",
              "4              Somewhat Agree  Neither Agree nor Disagree  ...   \n",
              "\n",
              "             F2.9               F3.4                        F4.3  \\\n",
              "0  Somewhat Agree  Somewhat Disagree  Neither Agree nor Disagree   \n",
              "1  Somewhat Agree     Somewhat Agree  Neither Agree nor Disagree   \n",
              "2  Somewhat Agree     Somewhat Agree  Neither Agree nor Disagree   \n",
              "3  Somewhat Agree  Somewhat Disagree              Somewhat Agree   \n",
              "4  Somewhat Agree     Somewhat Agree  Neither Agree nor Disagree   \n",
              "\n",
              "            F2.10                        F1.7                        F6.4  \\\n",
              "0  Somewhat Agree              Somewhat Agree              Somewhat Agree   \n",
              "1  Somewhat Agree              Somewhat Agree           Somewhat Disagree   \n",
              "2  Somewhat Agree              Somewhat Agree              Somewhat Agree   \n",
              "3  Somewhat Agree  Neither Agree nor Disagree  Neither Agree nor Disagree   \n",
              "4  Somewhat Agree              Somewhat Agree              Somewhat Agree   \n",
              "\n",
              "                         F4.4            F5.7                        F3.5  \\\n",
              "0              Somewhat Agree  Somewhat Agree              Somewhat Agree   \n",
              "1  Neither Agree nor Disagree  Somewhat Agree  Neither Agree nor Disagree   \n",
              "2              Somewhat Agree  Strongly Agree           Strongly Disagree   \n",
              "3  Neither Agree nor Disagree  Somewhat Agree           Somewhat Disagree   \n",
              "4              Somewhat Agree  Strongly Agree           Somewhat Disagree   \n",
              "\n",
              "            F2.11  \n",
              "0  Somewhat Agree  \n",
              "1  Somewhat Agree  \n",
              "2  Somewhat Agree  \n",
              "3  Somewhat Agree  \n",
              "4  Somewhat Agree  \n",
              "\n",
              "[5 rows x 45 columns]"
            ]
          },
          "execution_count": 3,
          "metadata": {},
          "output_type": "execute_result"
        }
      ],
      "source": [
        "(survey_raw\n",
        " >> rename(id_col = 'Unnamed: 0', f1 = X.F1) \n",
        " >> head\n",
        ")"
      ]
    },
    {
      "cell_type": "markdown",
      "metadata": {
        "id": "nSROR1KzVy6T"
      },
      "source": [
        "## Renaming many columns with a `dict`"
      ]
    },
    {
      "cell_type": "code",
      "execution_count": null,
      "metadata": {
        "id": "VuSFY-qhVy6U",
        "outputId": "9ed04b08-7d17-4f7b-87a2-eaae75c3d2a0"
      },
      "outputs": [
        {
          "data": {
            "text/plain": [
              "['unnamed: 0', 'f1', 'f5', 'f2', 'f1_1', 'f2_1', 'f6', 'f4', 'f3', 'f5_1']"
            ]
          },
          "execution_count": 4,
          "metadata": {},
          "output_type": "execute_result"
        }
      ],
      "source": [
        "from composable.strict import map\n",
        "from composable.sequence import head as head_, to_list\n",
        "\n",
        "fix_name = lambda n: n.lower().replace('.', '_')\n",
        "\n",
        "(survey_raw.columns[:10]\n",
        " >> map(fix_name)\n",
        ")\n"
      ]
    },
    {
      "cell_type": "code",
      "execution_count": null,
      "metadata": {
        "id": "kdBB2c1-Vy6U",
        "outputId": "7436513d-393b-45a8-adfe-d0aaae771b31"
      },
      "outputs": [
        {
          "data": {
            "text/html": [
              "<div>\n",
              "<style scoped>\n",
              "    .dataframe tbody tr th:only-of-type {\n",
              "        vertical-align: middle;\n",
              "    }\n",
              "\n",
              "    .dataframe tbody tr th {\n",
              "        vertical-align: top;\n",
              "    }\n",
              "\n",
              "    .dataframe thead th {\n",
              "        text-align: right;\n",
              "    }\n",
              "</style>\n",
              "<table border=\"1\" class=\"dataframe\">\n",
              "  <thead>\n",
              "    <tr style=\"text-align: right;\">\n",
              "      <th></th>\n",
              "      <th>id_col</th>\n",
              "      <th>f1</th>\n",
              "      <th>f5</th>\n",
              "      <th>f2</th>\n",
              "      <th>f1_1</th>\n",
              "      <th>f2_1</th>\n",
              "      <th>f6</th>\n",
              "      <th>f4</th>\n",
              "      <th>f3</th>\n",
              "      <th>f5_1</th>\n",
              "      <th>...</th>\n",
              "      <th>f2_9</th>\n",
              "      <th>f3_4</th>\n",
              "      <th>f4_3</th>\n",
              "      <th>f2_10</th>\n",
              "      <th>f1_7</th>\n",
              "      <th>f6_4</th>\n",
              "      <th>f4_4</th>\n",
              "      <th>f5_7</th>\n",
              "      <th>f3_5</th>\n",
              "      <th>f2_11</th>\n",
              "    </tr>\n",
              "  </thead>\n",
              "  <tbody>\n",
              "    <tr>\n",
              "      <th>0</th>\n",
              "      <td>1</td>\n",
              "      <td>Somewhat Agree</td>\n",
              "      <td>Somewhat Disagree</td>\n",
              "      <td>Somewhat Agree</td>\n",
              "      <td>Somewhat Agree</td>\n",
              "      <td>Somewhat Agree</td>\n",
              "      <td>Somewhat Disagree</td>\n",
              "      <td>Somewhat Agree</td>\n",
              "      <td>Somewhat Agree</td>\n",
              "      <td>Somewhat Agree</td>\n",
              "      <td>...</td>\n",
              "      <td>Somewhat Agree</td>\n",
              "      <td>Somewhat Disagree</td>\n",
              "      <td>Neither Agree nor Disagree</td>\n",
              "      <td>Somewhat Agree</td>\n",
              "      <td>Somewhat Agree</td>\n",
              "      <td>Somewhat Agree</td>\n",
              "      <td>Somewhat Agree</td>\n",
              "      <td>Somewhat Agree</td>\n",
              "      <td>Somewhat Agree</td>\n",
              "      <td>Somewhat Agree</td>\n",
              "    </tr>\n",
              "    <tr>\n",
              "      <th>1</th>\n",
              "      <td>2</td>\n",
              "      <td>Somewhat Agree</td>\n",
              "      <td>Somewhat Disagree</td>\n",
              "      <td>Somewhat Agree</td>\n",
              "      <td>Somewhat Agree</td>\n",
              "      <td>Somewhat Agree</td>\n",
              "      <td>Somewhat Disagree</td>\n",
              "      <td>Somewhat Agree</td>\n",
              "      <td>Neither Agree nor Disagree</td>\n",
              "      <td>Neither Agree nor Disagree</td>\n",
              "      <td>...</td>\n",
              "      <td>Somewhat Agree</td>\n",
              "      <td>Somewhat Agree</td>\n",
              "      <td>Neither Agree nor Disagree</td>\n",
              "      <td>Somewhat Agree</td>\n",
              "      <td>Somewhat Agree</td>\n",
              "      <td>Somewhat Disagree</td>\n",
              "      <td>Neither Agree nor Disagree</td>\n",
              "      <td>Somewhat Agree</td>\n",
              "      <td>Neither Agree nor Disagree</td>\n",
              "      <td>Somewhat Agree</td>\n",
              "    </tr>\n",
              "  </tbody>\n",
              "</table>\n",
              "<p>2 rows × 45 columns</p>\n",
              "</div>"
            ],
            "text/plain": [
              "   id_col              f1                 f5              f2            f1_1  \\\n",
              "0       1  Somewhat Agree  Somewhat Disagree  Somewhat Agree  Somewhat Agree   \n",
              "1       2  Somewhat Agree  Somewhat Disagree  Somewhat Agree  Somewhat Agree   \n",
              "\n",
              "             f2_1                 f6              f4  \\\n",
              "0  Somewhat Agree  Somewhat Disagree  Somewhat Agree   \n",
              "1  Somewhat Agree  Somewhat Disagree  Somewhat Agree   \n",
              "\n",
              "                           f3                        f5_1  ...  \\\n",
              "0              Somewhat Agree              Somewhat Agree  ...   \n",
              "1  Neither Agree nor Disagree  Neither Agree nor Disagree  ...   \n",
              "\n",
              "             f2_9               f3_4                        f4_3  \\\n",
              "0  Somewhat Agree  Somewhat Disagree  Neither Agree nor Disagree   \n",
              "1  Somewhat Agree     Somewhat Agree  Neither Agree nor Disagree   \n",
              "\n",
              "            f2_10            f1_7               f6_4  \\\n",
              "0  Somewhat Agree  Somewhat Agree     Somewhat Agree   \n",
              "1  Somewhat Agree  Somewhat Agree  Somewhat Disagree   \n",
              "\n",
              "                         f4_4            f5_7                        f3_5  \\\n",
              "0              Somewhat Agree  Somewhat Agree              Somewhat Agree   \n",
              "1  Neither Agree nor Disagree  Somewhat Agree  Neither Agree nor Disagree   \n",
              "\n",
              "            f2_11  \n",
              "0  Somewhat Agree  \n",
              "1  Somewhat Agree  \n",
              "\n",
              "[2 rows x 45 columns]"
            ]
          },
          "execution_count": 5,
          "metadata": {},
          "output_type": "execute_result"
        }
      ],
      "source": [
        "survey = (survey_raw \n",
        "          >> rename(id_col = 'Unnamed: 0', f1 = X.F1) \n",
        "          >> rename(**{fix_name(n):n for n in survey_raw.columns}) \n",
        "         )\n",
        "survey.head(2)"
      ]
    },
    {
      "cell_type": "markdown",
      "metadata": {
        "id": "Hhs3XcFFVy6U"
      },
      "source": [
        "## Dropping columns with`~` "
      ]
    },
    {
      "cell_type": "code",
      "execution_count": null,
      "metadata": {
        "id": "6cYNq91dVy6U",
        "outputId": "aa67d4ee-125a-48b3-973e-ca1184df3580"
      },
      "outputs": [
        {
          "data": {
            "text/html": [
              "<div>\n",
              "<style scoped>\n",
              "    .dataframe tbody tr th:only-of-type {\n",
              "        vertical-align: middle;\n",
              "    }\n",
              "\n",
              "    .dataframe tbody tr th {\n",
              "        vertical-align: top;\n",
              "    }\n",
              "\n",
              "    .dataframe thead th {\n",
              "        text-align: right;\n",
              "    }\n",
              "</style>\n",
              "<table border=\"1\" class=\"dataframe\">\n",
              "  <thead>\n",
              "    <tr style=\"text-align: right;\">\n",
              "      <th></th>\n",
              "      <th>id_col</th>\n",
              "      <th>f5</th>\n",
              "      <th>f2</th>\n",
              "      <th>f1_1</th>\n",
              "      <th>f2_1</th>\n",
              "      <th>f6</th>\n",
              "      <th>f4</th>\n",
              "      <th>f3</th>\n",
              "      <th>f5_1</th>\n",
              "      <th>f1_2</th>\n",
              "      <th>...</th>\n",
              "      <th>f2_9</th>\n",
              "      <th>f3_4</th>\n",
              "      <th>f4_3</th>\n",
              "      <th>f2_10</th>\n",
              "      <th>f1_7</th>\n",
              "      <th>f6_4</th>\n",
              "      <th>f4_4</th>\n",
              "      <th>f5_7</th>\n",
              "      <th>f3_5</th>\n",
              "      <th>f2_11</th>\n",
              "    </tr>\n",
              "  </thead>\n",
              "  <tbody>\n",
              "    <tr>\n",
              "      <th>0</th>\n",
              "      <td>1</td>\n",
              "      <td>Somewhat Disagree</td>\n",
              "      <td>Somewhat Agree</td>\n",
              "      <td>Somewhat Agree</td>\n",
              "      <td>Somewhat Agree</td>\n",
              "      <td>Somewhat Disagree</td>\n",
              "      <td>Somewhat Agree</td>\n",
              "      <td>Somewhat Agree</td>\n",
              "      <td>Somewhat Agree</td>\n",
              "      <td>Somewhat Agree</td>\n",
              "      <td>...</td>\n",
              "      <td>Somewhat Agree</td>\n",
              "      <td>Somewhat Disagree</td>\n",
              "      <td>Neither Agree nor Disagree</td>\n",
              "      <td>Somewhat Agree</td>\n",
              "      <td>Somewhat Agree</td>\n",
              "      <td>Somewhat Agree</td>\n",
              "      <td>Somewhat Agree</td>\n",
              "      <td>Somewhat Agree</td>\n",
              "      <td>Somewhat Agree</td>\n",
              "      <td>Somewhat Agree</td>\n",
              "    </tr>\n",
              "    <tr>\n",
              "      <th>1</th>\n",
              "      <td>2</td>\n",
              "      <td>Somewhat Disagree</td>\n",
              "      <td>Somewhat Agree</td>\n",
              "      <td>Somewhat Agree</td>\n",
              "      <td>Somewhat Agree</td>\n",
              "      <td>Somewhat Disagree</td>\n",
              "      <td>Somewhat Agree</td>\n",
              "      <td>Neither Agree nor Disagree</td>\n",
              "      <td>Neither Agree nor Disagree</td>\n",
              "      <td>Somewhat Agree</td>\n",
              "      <td>...</td>\n",
              "      <td>Somewhat Agree</td>\n",
              "      <td>Somewhat Agree</td>\n",
              "      <td>Neither Agree nor Disagree</td>\n",
              "      <td>Somewhat Agree</td>\n",
              "      <td>Somewhat Agree</td>\n",
              "      <td>Somewhat Disagree</td>\n",
              "      <td>Neither Agree nor Disagree</td>\n",
              "      <td>Somewhat Agree</td>\n",
              "      <td>Neither Agree nor Disagree</td>\n",
              "      <td>Somewhat Agree</td>\n",
              "    </tr>\n",
              "  </tbody>\n",
              "</table>\n",
              "<p>2 rows × 44 columns</p>\n",
              "</div>"
            ],
            "text/plain": [
              "   id_col                 f5              f2            f1_1            f2_1  \\\n",
              "0       1  Somewhat Disagree  Somewhat Agree  Somewhat Agree  Somewhat Agree   \n",
              "1       2  Somewhat Disagree  Somewhat Agree  Somewhat Agree  Somewhat Agree   \n",
              "\n",
              "                  f6              f4                          f3  \\\n",
              "0  Somewhat Disagree  Somewhat Agree              Somewhat Agree   \n",
              "1  Somewhat Disagree  Somewhat Agree  Neither Agree nor Disagree   \n",
              "\n",
              "                         f5_1            f1_2  ...            f2_9  \\\n",
              "0              Somewhat Agree  Somewhat Agree  ...  Somewhat Agree   \n",
              "1  Neither Agree nor Disagree  Somewhat Agree  ...  Somewhat Agree   \n",
              "\n",
              "                f3_4                        f4_3           f2_10  \\\n",
              "0  Somewhat Disagree  Neither Agree nor Disagree  Somewhat Agree   \n",
              "1     Somewhat Agree  Neither Agree nor Disagree  Somewhat Agree   \n",
              "\n",
              "             f1_7               f6_4                        f4_4  \\\n",
              "0  Somewhat Agree     Somewhat Agree              Somewhat Agree   \n",
              "1  Somewhat Agree  Somewhat Disagree  Neither Agree nor Disagree   \n",
              "\n",
              "             f5_7                        f3_5           f2_11  \n",
              "0  Somewhat Agree              Somewhat Agree  Somewhat Agree  \n",
              "1  Somewhat Agree  Neither Agree nor Disagree  Somewhat Agree  \n",
              "\n",
              "[2 rows x 44 columns]"
            ]
          },
          "execution_count": 8,
          "metadata": {},
          "output_type": "execute_result"
        }
      ],
      "source": [
        "(survey \n",
        " >> select(~X.f1) \n",
        " >> head(2)\n",
        ")"
      ]
    },
    {
      "cell_type": "markdown",
      "metadata": {
        "id": "3Mhx8c11Vy6V"
      },
      "source": [
        "## Dropping multiple columns"
      ]
    },
    {
      "cell_type": "code",
      "execution_count": null,
      "metadata": {
        "id": "cm5cwK7BVy6V",
        "outputId": "953cbe36-ff3e-4906-a537-0cdccd2229f2"
      },
      "outputs": [
        {
          "data": {
            "text/html": [
              "<div>\n",
              "<style scoped>\n",
              "    .dataframe tbody tr th:only-of-type {\n",
              "        vertical-align: middle;\n",
              "    }\n",
              "\n",
              "    .dataframe tbody tr th {\n",
              "        vertical-align: top;\n",
              "    }\n",
              "\n",
              "    .dataframe thead th {\n",
              "        text-align: right;\n",
              "    }\n",
              "</style>\n",
              "<table border=\"1\" class=\"dataframe\">\n",
              "  <thead>\n",
              "    <tr style=\"text-align: right;\">\n",
              "      <th></th>\n",
              "      <th>id_col</th>\n",
              "      <th>f5</th>\n",
              "      <th>f1_1</th>\n",
              "      <th>f2_1</th>\n",
              "      <th>f6</th>\n",
              "      <th>f4</th>\n",
              "      <th>f3</th>\n",
              "      <th>f5_1</th>\n",
              "      <th>f1_2</th>\n",
              "      <th>f2_2</th>\n",
              "      <th>...</th>\n",
              "      <th>f2_9</th>\n",
              "      <th>f3_4</th>\n",
              "      <th>f4_3</th>\n",
              "      <th>f2_10</th>\n",
              "      <th>f1_7</th>\n",
              "      <th>f6_4</th>\n",
              "      <th>f4_4</th>\n",
              "      <th>f5_7</th>\n",
              "      <th>f3_5</th>\n",
              "      <th>f2_11</th>\n",
              "    </tr>\n",
              "  </thead>\n",
              "  <tbody>\n",
              "    <tr>\n",
              "      <th>0</th>\n",
              "      <td>1</td>\n",
              "      <td>Somewhat Disagree</td>\n",
              "      <td>Somewhat Agree</td>\n",
              "      <td>Somewhat Agree</td>\n",
              "      <td>Somewhat Disagree</td>\n",
              "      <td>Somewhat Agree</td>\n",
              "      <td>Somewhat Agree</td>\n",
              "      <td>Somewhat Agree</td>\n",
              "      <td>Somewhat Agree</td>\n",
              "      <td>Somewhat Agree</td>\n",
              "      <td>...</td>\n",
              "      <td>Somewhat Agree</td>\n",
              "      <td>Somewhat Disagree</td>\n",
              "      <td>Neither Agree nor Disagree</td>\n",
              "      <td>Somewhat Agree</td>\n",
              "      <td>Somewhat Agree</td>\n",
              "      <td>Somewhat Agree</td>\n",
              "      <td>Somewhat Agree</td>\n",
              "      <td>Somewhat Agree</td>\n",
              "      <td>Somewhat Agree</td>\n",
              "      <td>Somewhat Agree</td>\n",
              "    </tr>\n",
              "    <tr>\n",
              "      <th>1</th>\n",
              "      <td>2</td>\n",
              "      <td>Somewhat Disagree</td>\n",
              "      <td>Somewhat Agree</td>\n",
              "      <td>Somewhat Agree</td>\n",
              "      <td>Somewhat Disagree</td>\n",
              "      <td>Somewhat Agree</td>\n",
              "      <td>Neither Agree nor Disagree</td>\n",
              "      <td>Neither Agree nor Disagree</td>\n",
              "      <td>Somewhat Agree</td>\n",
              "      <td>Neither Agree nor Disagree</td>\n",
              "      <td>...</td>\n",
              "      <td>Somewhat Agree</td>\n",
              "      <td>Somewhat Agree</td>\n",
              "      <td>Neither Agree nor Disagree</td>\n",
              "      <td>Somewhat Agree</td>\n",
              "      <td>Somewhat Agree</td>\n",
              "      <td>Somewhat Disagree</td>\n",
              "      <td>Neither Agree nor Disagree</td>\n",
              "      <td>Somewhat Agree</td>\n",
              "      <td>Neither Agree nor Disagree</td>\n",
              "      <td>Somewhat Agree</td>\n",
              "    </tr>\n",
              "  </tbody>\n",
              "</table>\n",
              "<p>2 rows × 43 columns</p>\n",
              "</div>"
            ],
            "text/plain": [
              "   id_col                 f5            f1_1            f2_1  \\\n",
              "0       1  Somewhat Disagree  Somewhat Agree  Somewhat Agree   \n",
              "1       2  Somewhat Disagree  Somewhat Agree  Somewhat Agree   \n",
              "\n",
              "                  f6              f4                          f3  \\\n",
              "0  Somewhat Disagree  Somewhat Agree              Somewhat Agree   \n",
              "1  Somewhat Disagree  Somewhat Agree  Neither Agree nor Disagree   \n",
              "\n",
              "                         f5_1            f1_2                        f2_2  \\\n",
              "0              Somewhat Agree  Somewhat Agree              Somewhat Agree   \n",
              "1  Neither Agree nor Disagree  Somewhat Agree  Neither Agree nor Disagree   \n",
              "\n",
              "   ...            f2_9               f3_4                        f4_3  \\\n",
              "0  ...  Somewhat Agree  Somewhat Disagree  Neither Agree nor Disagree   \n",
              "1  ...  Somewhat Agree     Somewhat Agree  Neither Agree nor Disagree   \n",
              "\n",
              "            f2_10            f1_7               f6_4  \\\n",
              "0  Somewhat Agree  Somewhat Agree     Somewhat Agree   \n",
              "1  Somewhat Agree  Somewhat Agree  Somewhat Disagree   \n",
              "\n",
              "                         f4_4            f5_7                        f3_5  \\\n",
              "0              Somewhat Agree  Somewhat Agree              Somewhat Agree   \n",
              "1  Neither Agree nor Disagree  Somewhat Agree  Neither Agree nor Disagree   \n",
              "\n",
              "            f2_11  \n",
              "0  Somewhat Agree  \n",
              "1  Somewhat Agree  \n",
              "\n",
              "[2 rows x 43 columns]"
            ]
          },
          "execution_count": 9,
          "metadata": {},
          "output_type": "execute_result"
        }
      ],
      "source": [
        "from dfply import select\n",
        "(survey >>\n",
        "  select(~X.f1, ~X.f2) >>\n",
        "  head(2)\n",
        ")"
      ]
    },
    {
      "cell_type": "markdown",
      "metadata": {
        "id": "M3jeswrfVy6V"
      },
      "source": [
        "## Dropping columns with `drop`\n",
        "\n",
        "`dfply.drop` can be used to drop columns."
      ]
    },
    {
      "cell_type": "code",
      "execution_count": null,
      "metadata": {
        "id": "bpqQN-8GVy6W",
        "outputId": "0f28e20f-6351-49eb-a225-860997f93827"
      },
      "outputs": [
        {
          "data": {
            "text/html": [
              "<div>\n",
              "<style scoped>\n",
              "    .dataframe tbody tr th:only-of-type {\n",
              "        vertical-align: middle;\n",
              "    }\n",
              "\n",
              "    .dataframe tbody tr th {\n",
              "        vertical-align: top;\n",
              "    }\n",
              "\n",
              "    .dataframe thead th {\n",
              "        text-align: right;\n",
              "    }\n",
              "</style>\n",
              "<table border=\"1\" class=\"dataframe\">\n",
              "  <thead>\n",
              "    <tr style=\"text-align: right;\">\n",
              "      <th></th>\n",
              "      <th>id_col</th>\n",
              "      <th>f5</th>\n",
              "      <th>f1_1</th>\n",
              "      <th>f2_1</th>\n",
              "      <th>f6</th>\n",
              "      <th>f4</th>\n",
              "      <th>f3</th>\n",
              "      <th>f5_1</th>\n",
              "      <th>f1_2</th>\n",
              "      <th>f2_2</th>\n",
              "      <th>...</th>\n",
              "      <th>f2_9</th>\n",
              "      <th>f3_4</th>\n",
              "      <th>f4_3</th>\n",
              "      <th>f2_10</th>\n",
              "      <th>f1_7</th>\n",
              "      <th>f6_4</th>\n",
              "      <th>f4_4</th>\n",
              "      <th>f5_7</th>\n",
              "      <th>f3_5</th>\n",
              "      <th>f2_11</th>\n",
              "    </tr>\n",
              "  </thead>\n",
              "  <tbody>\n",
              "    <tr>\n",
              "      <th>0</th>\n",
              "      <td>1</td>\n",
              "      <td>Somewhat Disagree</td>\n",
              "      <td>Somewhat Agree</td>\n",
              "      <td>Somewhat Agree</td>\n",
              "      <td>Somewhat Disagree</td>\n",
              "      <td>Somewhat Agree</td>\n",
              "      <td>Somewhat Agree</td>\n",
              "      <td>Somewhat Agree</td>\n",
              "      <td>Somewhat Agree</td>\n",
              "      <td>Somewhat Agree</td>\n",
              "      <td>...</td>\n",
              "      <td>Somewhat Agree</td>\n",
              "      <td>Somewhat Disagree</td>\n",
              "      <td>Neither Agree nor Disagree</td>\n",
              "      <td>Somewhat Agree</td>\n",
              "      <td>Somewhat Agree</td>\n",
              "      <td>Somewhat Agree</td>\n",
              "      <td>Somewhat Agree</td>\n",
              "      <td>Somewhat Agree</td>\n",
              "      <td>Somewhat Agree</td>\n",
              "      <td>Somewhat Agree</td>\n",
              "    </tr>\n",
              "    <tr>\n",
              "      <th>1</th>\n",
              "      <td>2</td>\n",
              "      <td>Somewhat Disagree</td>\n",
              "      <td>Somewhat Agree</td>\n",
              "      <td>Somewhat Agree</td>\n",
              "      <td>Somewhat Disagree</td>\n",
              "      <td>Somewhat Agree</td>\n",
              "      <td>Neither Agree nor Disagree</td>\n",
              "      <td>Neither Agree nor Disagree</td>\n",
              "      <td>Somewhat Agree</td>\n",
              "      <td>Neither Agree nor Disagree</td>\n",
              "      <td>...</td>\n",
              "      <td>Somewhat Agree</td>\n",
              "      <td>Somewhat Agree</td>\n",
              "      <td>Neither Agree nor Disagree</td>\n",
              "      <td>Somewhat Agree</td>\n",
              "      <td>Somewhat Agree</td>\n",
              "      <td>Somewhat Disagree</td>\n",
              "      <td>Neither Agree nor Disagree</td>\n",
              "      <td>Somewhat Agree</td>\n",
              "      <td>Neither Agree nor Disagree</td>\n",
              "      <td>Somewhat Agree</td>\n",
              "    </tr>\n",
              "  </tbody>\n",
              "</table>\n",
              "<p>2 rows × 43 columns</p>\n",
              "</div>"
            ],
            "text/plain": [
              "   id_col                 f5            f1_1            f2_1  \\\n",
              "0       1  Somewhat Disagree  Somewhat Agree  Somewhat Agree   \n",
              "1       2  Somewhat Disagree  Somewhat Agree  Somewhat Agree   \n",
              "\n",
              "                  f6              f4                          f3  \\\n",
              "0  Somewhat Disagree  Somewhat Agree              Somewhat Agree   \n",
              "1  Somewhat Disagree  Somewhat Agree  Neither Agree nor Disagree   \n",
              "\n",
              "                         f5_1            f1_2                        f2_2  \\\n",
              "0              Somewhat Agree  Somewhat Agree              Somewhat Agree   \n",
              "1  Neither Agree nor Disagree  Somewhat Agree  Neither Agree nor Disagree   \n",
              "\n",
              "   ...            f2_9               f3_4                        f4_3  \\\n",
              "0  ...  Somewhat Agree  Somewhat Disagree  Neither Agree nor Disagree   \n",
              "1  ...  Somewhat Agree     Somewhat Agree  Neither Agree nor Disagree   \n",
              "\n",
              "            f2_10            f1_7               f6_4  \\\n",
              "0  Somewhat Agree  Somewhat Agree     Somewhat Agree   \n",
              "1  Somewhat Agree  Somewhat Agree  Somewhat Disagree   \n",
              "\n",
              "                         f4_4            f5_7                        f3_5  \\\n",
              "0              Somewhat Agree  Somewhat Agree              Somewhat Agree   \n",
              "1  Neither Agree nor Disagree  Somewhat Agree  Neither Agree nor Disagree   \n",
              "\n",
              "            f2_11  \n",
              "0  Somewhat Agree  \n",
              "1  Somewhat Agree  \n",
              "\n",
              "[2 rows x 43 columns]"
            ]
          },
          "execution_count": 10,
          "metadata": {},
          "output_type": "execute_result"
        }
      ],
      "source": [
        "(survey \n",
        " >> drop(X.f1, X.f2) \n",
        " >> head(2))"
      ]
    },
    {
      "cell_type": "markdown",
      "metadata": {
        "id": "lWVHKuobVy6W"
      },
      "source": [
        "## `select` helper based on label content\n",
        "\n",
        "Filter columns based on content using\n",
        "\n",
        "* `starts_with(prefix)`: find columns that start with a string prefix.\n",
        "* `ends_with(suffix)`: find columns that end with a string suffix.\n",
        "* `contains(substr)`: find columns that contain a substring in their name."
      ]
    },
    {
      "cell_type": "code",
      "execution_count": null,
      "metadata": {
        "id": "7QVtdDweVy6W",
        "outputId": "f1f579ab-77e7-45f1-8d11-36d2ee73611c"
      },
      "outputs": [
        {
          "data": {
            "text/html": [
              "<div>\n",
              "<style scoped>\n",
              "    .dataframe tbody tr th:only-of-type {\n",
              "        vertical-align: middle;\n",
              "    }\n",
              "\n",
              "    .dataframe tbody tr th {\n",
              "        vertical-align: top;\n",
              "    }\n",
              "\n",
              "    .dataframe thead th {\n",
              "        text-align: right;\n",
              "    }\n",
              "</style>\n",
              "<table border=\"1\" class=\"dataframe\">\n",
              "  <thead>\n",
              "    <tr style=\"text-align: right;\">\n",
              "      <th></th>\n",
              "      <th>f1</th>\n",
              "      <th>f1_1</th>\n",
              "      <th>f1_2</th>\n",
              "      <th>f1_3</th>\n",
              "      <th>f1_4</th>\n",
              "      <th>f1_5</th>\n",
              "      <th>f1_6</th>\n",
              "      <th>f1_7</th>\n",
              "    </tr>\n",
              "  </thead>\n",
              "  <tbody>\n",
              "    <tr>\n",
              "      <th>0</th>\n",
              "      <td>Somewhat Agree</td>\n",
              "      <td>Somewhat Agree</td>\n",
              "      <td>Somewhat Agree</td>\n",
              "      <td>Somewhat Agree</td>\n",
              "      <td>Neither Agree nor Disagree</td>\n",
              "      <td>Somewhat Agree</td>\n",
              "      <td>Somewhat Agree</td>\n",
              "      <td>Somewhat Agree</td>\n",
              "    </tr>\n",
              "    <tr>\n",
              "      <th>1</th>\n",
              "      <td>Somewhat Agree</td>\n",
              "      <td>Somewhat Agree</td>\n",
              "      <td>Somewhat Agree</td>\n",
              "      <td>Somewhat Agree</td>\n",
              "      <td>Somewhat Agree</td>\n",
              "      <td>Neither Agree nor Disagree</td>\n",
              "      <td>Somewhat Agree</td>\n",
              "      <td>Somewhat Agree</td>\n",
              "    </tr>\n",
              "  </tbody>\n",
              "</table>\n",
              "</div>"
            ],
            "text/plain": [
              "               f1            f1_1            f1_2            f1_3  \\\n",
              "0  Somewhat Agree  Somewhat Agree  Somewhat Agree  Somewhat Agree   \n",
              "1  Somewhat Agree  Somewhat Agree  Somewhat Agree  Somewhat Agree   \n",
              "\n",
              "                         f1_4                        f1_5            f1_6  \\\n",
              "0  Neither Agree nor Disagree              Somewhat Agree  Somewhat Agree   \n",
              "1              Somewhat Agree  Neither Agree nor Disagree  Somewhat Agree   \n",
              "\n",
              "             f1_7  \n",
              "0  Somewhat Agree  \n",
              "1  Somewhat Agree  "
            ]
          },
          "execution_count": 11,
          "metadata": {},
          "output_type": "execute_result"
        }
      ],
      "source": [
        "(survey \n",
        " >> select(starts_with('f1')) \n",
        " >> head(2))"
      ]
    },
    {
      "cell_type": "markdown",
      "metadata": {
        "id": "_w7kQdi4Vy6X"
      },
      "source": [
        "## `~` composes with `select` helpers"
      ]
    },
    {
      "cell_type": "code",
      "execution_count": null,
      "metadata": {
        "id": "WGZjVK1jVy6X",
        "outputId": "e1f26fb0-870b-4f9c-d3f7-65d5686a22e6"
      },
      "outputs": [
        {
          "data": {
            "text/html": [
              "<div>\n",
              "<style scoped>\n",
              "    .dataframe tbody tr th:only-of-type {\n",
              "        vertical-align: middle;\n",
              "    }\n",
              "\n",
              "    .dataframe tbody tr th {\n",
              "        vertical-align: top;\n",
              "    }\n",
              "\n",
              "    .dataframe thead th {\n",
              "        text-align: right;\n",
              "    }\n",
              "</style>\n",
              "<table border=\"1\" class=\"dataframe\">\n",
              "  <thead>\n",
              "    <tr style=\"text-align: right;\">\n",
              "      <th></th>\n",
              "      <th>id_col</th>\n",
              "      <th>f5</th>\n",
              "      <th>f2</th>\n",
              "      <th>f2_1</th>\n",
              "      <th>f6</th>\n",
              "      <th>f4</th>\n",
              "      <th>f3</th>\n",
              "      <th>f5_1</th>\n",
              "      <th>f2_2</th>\n",
              "      <th>f6_1</th>\n",
              "      <th>...</th>\n",
              "      <th>f5_6</th>\n",
              "      <th>f2_9</th>\n",
              "      <th>f3_4</th>\n",
              "      <th>f4_3</th>\n",
              "      <th>f2_10</th>\n",
              "      <th>f6_4</th>\n",
              "      <th>f4_4</th>\n",
              "      <th>f5_7</th>\n",
              "      <th>f3_5</th>\n",
              "      <th>f2_11</th>\n",
              "    </tr>\n",
              "  </thead>\n",
              "  <tbody>\n",
              "    <tr>\n",
              "      <th>0</th>\n",
              "      <td>1</td>\n",
              "      <td>Somewhat Disagree</td>\n",
              "      <td>Somewhat Agree</td>\n",
              "      <td>Somewhat Agree</td>\n",
              "      <td>Somewhat Disagree</td>\n",
              "      <td>Somewhat Agree</td>\n",
              "      <td>Somewhat Agree</td>\n",
              "      <td>Somewhat Agree</td>\n",
              "      <td>Somewhat Agree</td>\n",
              "      <td>Somewhat Agree</td>\n",
              "      <td>...</td>\n",
              "      <td>Somewhat Agree</td>\n",
              "      <td>Somewhat Agree</td>\n",
              "      <td>Somewhat Disagree</td>\n",
              "      <td>Neither Agree nor Disagree</td>\n",
              "      <td>Somewhat Agree</td>\n",
              "      <td>Somewhat Agree</td>\n",
              "      <td>Somewhat Agree</td>\n",
              "      <td>Somewhat Agree</td>\n",
              "      <td>Somewhat Agree</td>\n",
              "      <td>Somewhat Agree</td>\n",
              "    </tr>\n",
              "    <tr>\n",
              "      <th>1</th>\n",
              "      <td>2</td>\n",
              "      <td>Somewhat Disagree</td>\n",
              "      <td>Somewhat Agree</td>\n",
              "      <td>Somewhat Agree</td>\n",
              "      <td>Somewhat Disagree</td>\n",
              "      <td>Somewhat Agree</td>\n",
              "      <td>Neither Agree nor Disagree</td>\n",
              "      <td>Neither Agree nor Disagree</td>\n",
              "      <td>Neither Agree nor Disagree</td>\n",
              "      <td>Somewhat Agree</td>\n",
              "      <td>...</td>\n",
              "      <td>Somewhat Disagree</td>\n",
              "      <td>Somewhat Agree</td>\n",
              "      <td>Somewhat Agree</td>\n",
              "      <td>Neither Agree nor Disagree</td>\n",
              "      <td>Somewhat Agree</td>\n",
              "      <td>Somewhat Disagree</td>\n",
              "      <td>Neither Agree nor Disagree</td>\n",
              "      <td>Somewhat Agree</td>\n",
              "      <td>Neither Agree nor Disagree</td>\n",
              "      <td>Somewhat Agree</td>\n",
              "    </tr>\n",
              "  </tbody>\n",
              "</table>\n",
              "<p>2 rows × 37 columns</p>\n",
              "</div>"
            ],
            "text/plain": [
              "   id_col                 f5              f2            f2_1  \\\n",
              "0       1  Somewhat Disagree  Somewhat Agree  Somewhat Agree   \n",
              "1       2  Somewhat Disagree  Somewhat Agree  Somewhat Agree   \n",
              "\n",
              "                  f6              f4                          f3  \\\n",
              "0  Somewhat Disagree  Somewhat Agree              Somewhat Agree   \n",
              "1  Somewhat Disagree  Somewhat Agree  Neither Agree nor Disagree   \n",
              "\n",
              "                         f5_1                        f2_2            f6_1  \\\n",
              "0              Somewhat Agree              Somewhat Agree  Somewhat Agree   \n",
              "1  Neither Agree nor Disagree  Neither Agree nor Disagree  Somewhat Agree   \n",
              "\n",
              "   ...               f5_6            f2_9               f3_4  \\\n",
              "0  ...     Somewhat Agree  Somewhat Agree  Somewhat Disagree   \n",
              "1  ...  Somewhat Disagree  Somewhat Agree     Somewhat Agree   \n",
              "\n",
              "                         f4_3           f2_10               f6_4  \\\n",
              "0  Neither Agree nor Disagree  Somewhat Agree     Somewhat Agree   \n",
              "1  Neither Agree nor Disagree  Somewhat Agree  Somewhat Disagree   \n",
              "\n",
              "                         f4_4            f5_7                        f3_5  \\\n",
              "0              Somewhat Agree  Somewhat Agree              Somewhat Agree   \n",
              "1  Neither Agree nor Disagree  Somewhat Agree  Neither Agree nor Disagree   \n",
              "\n",
              "            f2_11  \n",
              "0  Somewhat Agree  \n",
              "1  Somewhat Agree  \n",
              "\n",
              "[2 rows x 37 columns]"
            ]
          },
          "execution_count": 12,
          "metadata": {},
          "output_type": "execute_result"
        }
      ],
      "source": [
        "(survey \n",
        " >> select(~starts_with('f1')) \n",
        " >> head(2))"
      ]
    },
    {
      "cell_type": "markdown",
      "metadata": {
        "id": "8X3Kkep2Vy6X"
      },
      "source": [
        "## More detail on `select` helpers\n",
        "\n",
        "`select` helpers are\n",
        "\n",
        "* Lazy, returning `Intention` instances\n",
        "* Return a list of string (eventually)"
      ]
    },
    {
      "cell_type": "code",
      "execution_count": null,
      "metadata": {
        "id": "-es7Kld6Vy6Y",
        "outputId": "7b04e30f-89c3-4203-952e-b82fc3a9c1d8"
      },
      "outputs": [
        {
          "data": {
            "text/plain": [
              "<dfply.base.Intention at 0x10dddf7c0>"
            ]
          },
          "execution_count": 13,
          "metadata": {},
          "output_type": "execute_result"
        }
      ],
      "source": [
        "starts_with('f1')"
      ]
    },
    {
      "cell_type": "code",
      "execution_count": null,
      "metadata": {
        "id": "G8XPPEcSVy6Z",
        "outputId": "e1381d06-b454-43be-9b53-0ac7f219ec7c"
      },
      "outputs": [
        {
          "data": {
            "text/plain": [
              "['f1', 'f1_1', 'f1_2', 'f1_3', 'f1_4', 'f1_5', 'f1_6', 'f1_7']"
            ]
          },
          "execution_count": 14,
          "metadata": {},
          "output_type": "execute_result"
        }
      ],
      "source": [
        "starts_with('f1').evaluate(survey)"
      ]
    },
    {
      "cell_type": "markdown",
      "metadata": {
        "id": "fNRXfQWLVy6Z"
      },
      "source": [
        "## `select` helper based position\n",
        "\n",
        "* `everything()`: all columns.\n",
        "* `columns_between(start_col, end_col, inclusive=True)`: find columns between a specified start and end column. The inclusive boolean keyword argument indicates whether the end column should be included or not.\n",
        "* `columns_to(end_col, inclusive=True)`: get columns up to a specified end column. The inclusive argument indicates whether the ending column should be included or not.\n",
        "* `columns_from(start_col)`: get the columns starting at a specified column."
      ]
    },
    {
      "cell_type": "code",
      "execution_count": null,
      "metadata": {
        "id": "HTriv1wpVy6a",
        "outputId": "3150e857-0a0c-4dd3-c538-8bb334365670"
      },
      "outputs": [
        {
          "data": {
            "text/html": [
              "<div>\n",
              "<style scoped>\n",
              "    .dataframe tbody tr th:only-of-type {\n",
              "        vertical-align: middle;\n",
              "    }\n",
              "\n",
              "    .dataframe tbody tr th {\n",
              "        vertical-align: top;\n",
              "    }\n",
              "\n",
              "    .dataframe thead th {\n",
              "        text-align: right;\n",
              "    }\n",
              "</style>\n",
              "<table border=\"1\" class=\"dataframe\">\n",
              "  <thead>\n",
              "    <tr style=\"text-align: right;\">\n",
              "      <th></th>\n",
              "      <th>f1</th>\n",
              "      <th>f5</th>\n",
              "      <th>f2</th>\n",
              "      <th>f1_1</th>\n",
              "    </tr>\n",
              "  </thead>\n",
              "  <tbody>\n",
              "    <tr>\n",
              "      <th>0</th>\n",
              "      <td>Somewhat Agree</td>\n",
              "      <td>Somewhat Disagree</td>\n",
              "      <td>Somewhat Agree</td>\n",
              "      <td>Somewhat Agree</td>\n",
              "    </tr>\n",
              "    <tr>\n",
              "      <th>1</th>\n",
              "      <td>Somewhat Agree</td>\n",
              "      <td>Somewhat Disagree</td>\n",
              "      <td>Somewhat Agree</td>\n",
              "      <td>Somewhat Agree</td>\n",
              "    </tr>\n",
              "  </tbody>\n",
              "</table>\n",
              "</div>"
            ],
            "text/plain": [
              "               f1                 f5              f2            f1_1\n",
              "0  Somewhat Agree  Somewhat Disagree  Somewhat Agree  Somewhat Agree\n",
              "1  Somewhat Agree  Somewhat Disagree  Somewhat Agree  Somewhat Agree"
            ]
          },
          "execution_count": 15,
          "metadata": {},
          "output_type": "execute_result"
        }
      ],
      "source": [
        "(survey \n",
        " >> select(columns_between('f1', 'f1_1')) \n",
        " >> head(2))"
      ]
    },
    {
      "cell_type": "markdown",
      "metadata": {
        "id": "8ZVb5qKtVy6a"
      },
      "source": [
        "## These helpers work with the `X` intention"
      ]
    },
    {
      "cell_type": "code",
      "execution_count": null,
      "metadata": {
        "scrolled": true,
        "id": "UeAhFeIhVy6a",
        "outputId": "8f874253-54c2-4990-93d5-291fd69df8a7"
      },
      "outputs": [
        {
          "data": {
            "text/html": [
              "<div>\n",
              "<style scoped>\n",
              "    .dataframe tbody tr th:only-of-type {\n",
              "        vertical-align: middle;\n",
              "    }\n",
              "\n",
              "    .dataframe tbody tr th {\n",
              "        vertical-align: top;\n",
              "    }\n",
              "\n",
              "    .dataframe thead th {\n",
              "        text-align: right;\n",
              "    }\n",
              "</style>\n",
              "<table border=\"1\" class=\"dataframe\">\n",
              "  <thead>\n",
              "    <tr style=\"text-align: right;\">\n",
              "      <th></th>\n",
              "      <th>f1</th>\n",
              "      <th>f5</th>\n",
              "      <th>f2</th>\n",
              "      <th>f1_1</th>\n",
              "    </tr>\n",
              "  </thead>\n",
              "  <tbody>\n",
              "    <tr>\n",
              "      <th>0</th>\n",
              "      <td>Somewhat Agree</td>\n",
              "      <td>Somewhat Disagree</td>\n",
              "      <td>Somewhat Agree</td>\n",
              "      <td>Somewhat Agree</td>\n",
              "    </tr>\n",
              "    <tr>\n",
              "      <th>1</th>\n",
              "      <td>Somewhat Agree</td>\n",
              "      <td>Somewhat Disagree</td>\n",
              "      <td>Somewhat Agree</td>\n",
              "      <td>Somewhat Agree</td>\n",
              "    </tr>\n",
              "  </tbody>\n",
              "</table>\n",
              "</div>"
            ],
            "text/plain": [
              "               f1                 f5              f2            f1_1\n",
              "0  Somewhat Agree  Somewhat Disagree  Somewhat Agree  Somewhat Agree\n",
              "1  Somewhat Agree  Somewhat Disagree  Somewhat Agree  Somewhat Agree"
            ]
          },
          "execution_count": 16,
          "metadata": {},
          "output_type": "execute_result"
        }
      ],
      "source": [
        "(survey \n",
        " >> select(columns_between(X.f1, X['f1_1'])) \n",
        " >> head(2))"
      ]
    },
    {
      "cell_type": "code",
      "execution_count": null,
      "metadata": {
        "scrolled": true,
        "id": "dYnsrfAxVy6a",
        "outputId": "ddd3d39f-aa29-47a3-d804-7bfecc6f1e0b"
      },
      "outputs": [
        {
          "data": {
            "text/html": [
              "<div>\n",
              "<style scoped>\n",
              "    .dataframe tbody tr th:only-of-type {\n",
              "        vertical-align: middle;\n",
              "    }\n",
              "\n",
              "    .dataframe tbody tr th {\n",
              "        vertical-align: top;\n",
              "    }\n",
              "\n",
              "    .dataframe thead th {\n",
              "        text-align: right;\n",
              "    }\n",
              "</style>\n",
              "<table border=\"1\" class=\"dataframe\">\n",
              "  <thead>\n",
              "    <tr style=\"text-align: right;\">\n",
              "      <th></th>\n",
              "      <th>id_col</th>\n",
              "      <th>f2_1</th>\n",
              "      <th>f6</th>\n",
              "      <th>f4</th>\n",
              "      <th>f3</th>\n",
              "      <th>f5_1</th>\n",
              "      <th>f1_2</th>\n",
              "      <th>f2_2</th>\n",
              "      <th>f6_1</th>\n",
              "      <th>f2_3</th>\n",
              "      <th>...</th>\n",
              "      <th>f2_9</th>\n",
              "      <th>f3_4</th>\n",
              "      <th>f4_3</th>\n",
              "      <th>f2_10</th>\n",
              "      <th>f1_7</th>\n",
              "      <th>f6_4</th>\n",
              "      <th>f4_4</th>\n",
              "      <th>f5_7</th>\n",
              "      <th>f3_5</th>\n",
              "      <th>f2_11</th>\n",
              "    </tr>\n",
              "  </thead>\n",
              "  <tbody>\n",
              "    <tr>\n",
              "      <th>0</th>\n",
              "      <td>1</td>\n",
              "      <td>Somewhat Agree</td>\n",
              "      <td>Somewhat Disagree</td>\n",
              "      <td>Somewhat Agree</td>\n",
              "      <td>Somewhat Agree</td>\n",
              "      <td>Somewhat Agree</td>\n",
              "      <td>Somewhat Agree</td>\n",
              "      <td>Somewhat Agree</td>\n",
              "      <td>Somewhat Agree</td>\n",
              "      <td>Somewhat Agree</td>\n",
              "      <td>...</td>\n",
              "      <td>Somewhat Agree</td>\n",
              "      <td>Somewhat Disagree</td>\n",
              "      <td>Neither Agree nor Disagree</td>\n",
              "      <td>Somewhat Agree</td>\n",
              "      <td>Somewhat Agree</td>\n",
              "      <td>Somewhat Agree</td>\n",
              "      <td>Somewhat Agree</td>\n",
              "      <td>Somewhat Agree</td>\n",
              "      <td>Somewhat Agree</td>\n",
              "      <td>Somewhat Agree</td>\n",
              "    </tr>\n",
              "    <tr>\n",
              "      <th>1</th>\n",
              "      <td>2</td>\n",
              "      <td>Somewhat Agree</td>\n",
              "      <td>Somewhat Disagree</td>\n",
              "      <td>Somewhat Agree</td>\n",
              "      <td>Neither Agree nor Disagree</td>\n",
              "      <td>Neither Agree nor Disagree</td>\n",
              "      <td>Somewhat Agree</td>\n",
              "      <td>Neither Agree nor Disagree</td>\n",
              "      <td>Somewhat Agree</td>\n",
              "      <td>Somewhat Agree</td>\n",
              "      <td>...</td>\n",
              "      <td>Somewhat Agree</td>\n",
              "      <td>Somewhat Agree</td>\n",
              "      <td>Neither Agree nor Disagree</td>\n",
              "      <td>Somewhat Agree</td>\n",
              "      <td>Somewhat Agree</td>\n",
              "      <td>Somewhat Disagree</td>\n",
              "      <td>Neither Agree nor Disagree</td>\n",
              "      <td>Somewhat Agree</td>\n",
              "      <td>Neither Agree nor Disagree</td>\n",
              "      <td>Somewhat Agree</td>\n",
              "    </tr>\n",
              "  </tbody>\n",
              "</table>\n",
              "<p>2 rows × 41 columns</p>\n",
              "</div>"
            ],
            "text/plain": [
              "   id_col            f2_1                 f6              f4  \\\n",
              "0       1  Somewhat Agree  Somewhat Disagree  Somewhat Agree   \n",
              "1       2  Somewhat Agree  Somewhat Disagree  Somewhat Agree   \n",
              "\n",
              "                           f3                        f5_1            f1_2  \\\n",
              "0              Somewhat Agree              Somewhat Agree  Somewhat Agree   \n",
              "1  Neither Agree nor Disagree  Neither Agree nor Disagree  Somewhat Agree   \n",
              "\n",
              "                         f2_2            f6_1            f2_3  ...  \\\n",
              "0              Somewhat Agree  Somewhat Agree  Somewhat Agree  ...   \n",
              "1  Neither Agree nor Disagree  Somewhat Agree  Somewhat Agree  ...   \n",
              "\n",
              "             f2_9               f3_4                        f4_3  \\\n",
              "0  Somewhat Agree  Somewhat Disagree  Neither Agree nor Disagree   \n",
              "1  Somewhat Agree     Somewhat Agree  Neither Agree nor Disagree   \n",
              "\n",
              "            f2_10            f1_7               f6_4  \\\n",
              "0  Somewhat Agree  Somewhat Agree     Somewhat Agree   \n",
              "1  Somewhat Agree  Somewhat Agree  Somewhat Disagree   \n",
              "\n",
              "                         f4_4            f5_7                        f3_5  \\\n",
              "0              Somewhat Agree  Somewhat Agree              Somewhat Agree   \n",
              "1  Neither Agree nor Disagree  Somewhat Agree  Neither Agree nor Disagree   \n",
              "\n",
              "            f2_11  \n",
              "0  Somewhat Agree  \n",
              "1  Somewhat Agree  \n",
              "\n",
              "[2 rows x 41 columns]"
            ]
          },
          "execution_count": 17,
          "metadata": {},
          "output_type": "execute_result"
        }
      ],
      "source": [
        "(survey \n",
        " >> select(~columns_between(X.f1, X['f1_1'])) \n",
        " >> head(2))"
      ]
    },
    {
      "cell_type": "markdown",
      "metadata": {
        "id": "9QqhMdMBVy6b"
      },
      "source": [
        "## <font color=\"red\"> Exercise 1 </font> \n",
        "\n",
        "Use the `select` helper functions to create a table that contains all `F2` and `F3` questions.  \n",
        "\n",
        "\n",
        "**Hint:** `select` helpers return intentions that turn into lists.  Think about how you can combine two lists."
      ]
    },
    {
      "cell_type": "code",
      "execution_count": null,
      "metadata": {
        "id": "Ft38d7YtVy6b"
      },
      "outputs": [],
      "source": [
        "# Your code here\n",
        "\n"
      ]
    }
  ],
  "metadata": {
    "kernelspec": {
      "display_name": "Python 3 (ipykernel)",
      "language": "python",
      "name": "python3"
    },
    "language_info": {
      "codemirror_mode": {
        "name": "ipython",
        "version": 3
      },
      "file_extension": ".py",
      "mimetype": "text/x-python",
      "name": "python",
      "nbconvert_exporter": "python",
      "pygments_lexer": "ipython3",
      "version": "3.9.12"
    },
    "nteract": {
      "version": "nteract-on-jupyter@2.0.3"
    },
    "varInspector": {
      "cols": {
        "lenName": 16,
        "lenType": 16,
        "lenVar": 40
      },
      "kernels_config": {
        "python": {
          "delete_cmd_postfix": "",
          "delete_cmd_prefix": "del ",
          "library": "var_list.py",
          "varRefreshCmd": "print(var_dic_list())"
        },
        "r": {
          "delete_cmd_postfix": ") ",
          "delete_cmd_prefix": "rm(",
          "library": "var_list.r",
          "varRefreshCmd": "cat(var_dic_list()) "
        }
      },
      "types_to_exclude": [
        "module",
        "function",
        "builtin_function_or_method",
        "instance",
        "_Feature"
      ],
      "window_display": false
    },
    "colab": {
      "provenance": [],
      "include_colab_link": true
    }
  },
  "nbformat": 4,
  "nbformat_minor": 0
}